{
 "cells": [
  {
   "cell_type": "markdown",
   "metadata": {},
   "source": [
    "# Productivity with Python: From Markdown to Flash Cards\n",
    "<h3><span style=\"color: gray\">  Turning my notion pages into anki flash cards with python </span> </3>\n",
    "\n"
   ]
  },
  {
   "cell_type": "markdown",
   "metadata": {},
   "source": [
    "### From Only Inputs to Real Memories\n"
   ]
  },
  {
   "cell_type": "markdown",
   "metadata": {},
   "source": [
    "We all wish we could memorize everything right? We go about our lives and basically every single day we are bombarded with inputs, and links, and sources, and books and places to go, so on and so forth.\n",
    "\n",
    "So much daily stimulation, but so little absorption off all the things around us.\n",
    "\n",
    "Wouldn't it be great if we had a systematic way to make sure we can remember everything we want to remember where the data entry is not so slow that it slows down our work flow? \n",
    "\n",
    "\n",
    "Welcome to anki flash cards, the final word in memorization.\n",
    "\n",
    "___Today I want to discuss with your my approach of using a python script to turn my daily notes on Notion (markdown files) into flash cards I can import directly to my anki app.___\n",
    "\n"
   ]
  },
  {
   "cell_type": "markdown",
   "metadata": {},
   "source": [
    "### The Idea\n"
   ]
  },
  {
   "cell_type": "markdown",
   "metadata": {},
   "source": [
    "If you read any of my posts, you probably know I am a python aficionado. Not only that, I really love automation and productivity, so every time I come across an idea for a script that I think could make my digital life a bit faster, I always go for it. \n",
    "\n",
    "__<span style=\"color: red\"> [ADD IMAGE of a LAMP here] </span>__\n",
    "\n",
    "\n",
    "Let me tell you which idea I had and where did it come from.\n",
    "On a beautiful day me and my girlfriend were going on a small trip to this beautiful little town close to where we live to visit the local botanic garden. On the way I decided to catch up on some of my readings and, at the top of my list was \n",
    "this fascinating [article from Michael Nielsen ](http://augmentingcognition.com/ltm.html) where he discusses his anki flash cards system to memorize pretty much anything he wants. I was a bit skeptical at first as we all must be, let's not forget the words of one of the greatest philosophers of all time Rene Descartes:\n",
    "> Doubt stuff first!\n",
    "\n",
    "I am paraphrasing off course. The idea seem indeed ludacrious, but his writing was so compelling and well fundamented that I had to keep reading. He touched on a few subjects that were very fundamental like spaced repetition, the Ebbinghaus forgetting curve and how one could include flash cards in hers or his routine without disrupting the flow of the work. He gives examples and talk;s about the time for input which for me was the big turning point. You can start using this system without disrupting your routine! That makes definitely makes it worth it. \n",
    "\n",
    "Upon some reflection I decided that I had to try it out. \n",
    "\n",
    "I downloaded the app and started using it, following the principles he outlined in the article, the main ones that I think are worth mentioning are:\n",
    "\n",
    "<span style=\"color: red\"> Put the principles here </span>\n",
    "\n",
    "It has been a mind-boggling experience. Suddenly, I feel control over my memories and any topic seems achievable, I only have to ankify (look up this great word ;)) the building blocks that make up anything I want to understand and, I start feeling immediately more confident when starting out on a new topic or even when I want to brush up on old topics that I already mastered.\n",
    "\n",
    "However,the tricky thing was: \n",
    "___the data entry process was still not ideal....__\n",
    "__yet!__\n",
    "Since I don't like switching work environments of writing notes with Notion pages in my daily Bullet Journal to writing flash cards in anki, I wanted an automatic way to turn the markdown files that I can export with Notion, into neat anki flash cards that I can import directly to the Anki app on my desktop with no hussle.\n",
    "\n",
    "__Enters python!__\n",
    "\n",
    "Since I am a big python fan, I asked myself: \"Can I write a script that turns a markdown file into an anki flash card?\"\n",
    "\n",
    "Upon a bit of research I realized that yes! I can! I only have translate the markdown file into one of the acceptable formats that Anki can understand,one of which is a simple .txt file! \n",
    "\n",
    "<span style=\"color: red\"> [FUNNY IMAGE] </span>\n",
    "\n",
    "\n",
    "Yes, its that simple, you write a .txt file separating each question and answer with a \";\" and you are ready to go!\n",
    "\n",
    "<span style=\"color: red\"> Add a better explanation with images maybe....</span>\n",
    "\n",
    "Below, I will walk you through my process of turning my Notion pages (markdown files) into neat .txt files that can be imported to anki as nice flash cards.\n"
   ]
  },
  {
   "cell_type": "markdown",
   "metadata": {},
   "source": [
    "### The Pipeline"
   ]
  },
  {
   "cell_type": "markdown",
   "metadata": {},
   "source": [
    "Let's start with our imports, \n"
   ]
  },
  {
   "cell_type": "code",
   "execution_count": 6,
   "metadata": {},
   "outputs": [],
   "source": [
    "from zipfile import ZipFile # For unzipping the data as it is downloaded from Notion\n",
    "import glob # For Getting files in a folder with a given extension\n",
    "import pathlib # For doint path stuff"
   ]
  },
  {
   "cell_type": "markdown",
   "metadata": {},
   "source": [
    "First we are going to define a class called ```Ankify()``` that we will use as the center of all of our actions. It will have two attributes: ```self.question_indexes``` to handle the indexes of questions and ``````self.md_file``````to handle the path to the markdown files.\n"
   ]
  },
  {
   "cell_type": "code",
   "execution_count": null,
   "metadata": {},
   "outputs": [],
   "source": [
    "class Ankify:\n",
    "\tdef __init__(self):\n",
    "\t\tself.question_indexes = []\n",
    "\t\tself.md_file = None"
   ]
  },
  {
   "cell_type": "markdown",
   "metadata": {},
   "source": [
    "Now, we are going to define a function ```unzip_file_get_markdown(self, zip_file)```, which we will use to unzip our files as they are downloaded from Notion and find the markdown files inside of the extracted folder."
   ]
  },
  {
   "cell_type": "code",
   "execution_count": 2,
   "metadata": {},
   "outputs": [],
   "source": [
    "class Ankify:\n",
    "\tdef __init__(self):\n",
    "\t\tself.question_indexes = []\n",
    "\t\tself.md_file = None\n",
    "\n",
    "\tdef unzip_file_get_markdwon(self,zip_file):\n",
    "\t\tdest_folder = pathlib.Path(zip_file).parent\n",
    "\t\twith ZipFile(zip_file, \"r\") as zip:\n",
    "\t\t\tzip.extractall(dest_folder)\n",
    "\n",
    "\t\tself.md_file = glob.glob(str(dest_folder) + \"/*.md\")"
   ]
  },
  {
   "cell_type": "markdown",
   "metadata": {},
   "source": [
    "All right, cool! Now that we have  our md_file we can start playing!\n",
    "We are gong to define a function called ```ankify_markdown_page(self, txt_file=\"txt_file.txt\")```."
   ]
  },
  {
   "cell_type": "code",
   "execution_count": 5,
   "metadata": {},
   "outputs": [],
   "source": [
    "class Ankify:\n",
    "    def __init__(self):\n",
    "        self.question_indexes = []\n",
    "        self.md_file = None\n",
    "\n",
    "        \n",
    "    def unzip_file_get_markdwon(self,zip_file):\n",
    "        dest_folder = pathlib.Path(zip_file).parent\n",
    "        with ZipFile(zip_file, \"r\") as zip:\n",
    "            zip.extractall(dest_folder)\n",
    "\n",
    "        self.md_file = glob.glob(str(dest_folder) + \"/*.md\")\n",
    "        \n",
    "    def ankify_markdown_page(self, txt_file=\"anki_question.txt\"):\n",
    "        # WE open the markdown file\n",
    "        with open(self.md_file, \"r\") as page:\n",
    "            notion_page = page.readlines() # Read the lines of the file\n",
    "            for i,line in enumerate(notion_page): \n",
    "                if \"Anki*\" in line: #Find the ones that have \"Anki*\" written right next to them\n",
    "                    question = line[line.index(\"*\")+2:]\n",
    "                    q_start_index = i\n",
    "                try:\n",
    "                    if line.strip(\" \").split()[0] == \"#\" and \"q_start_index\" in locals(): #Find this symbol: '#' that represents the end of a flash card \n",
    "                        q_end_index = i\n",
    "                        self.question_indexes.append([q_start_index,q_end_index,question]) # SAve to a list the indexes of the lines where the flash card starts and ends with the question in it\n",
    "                except:\n",
    "                    continue\n",
    "\n",
    "        with open(txt_file, \"w+\") as anki_q: # Open the a txt file in write mode\n",
    "            for i,ix_q in enumerate(self.question_indexes): # For all the questions we foud in our markdown file\n",
    "                anki_q.write(ix_q[2].strip(\"\\n\") + \";\") # We write it to the .txt file skippin glines and adding a ';' to the end of each question.\n",
    "                for answer_line in notion_page[ix_q[0]+1:ix_q[1]]: # We write the answers right next to their corresponding questions\n",
    "                    anki_q.write(answer_line.strip(\"\\n\"))\n",
    "                anki_q.write(\"\\n\") # WE skip a line for keeping a nice format\n",
    "                "
   ]
  },
  {
   "cell_type": "markdown",
   "metadata": {},
   "source": [
    "The entire source code looks like this:\n"
   ]
  },
  {
   "cell_type": "code",
   "execution_count": null,
   "metadata": {},
   "outputs": [],
   "source": [
    "\n",
    "class Ankify:\n",
    "\tdef __init__(self):\n",
    "\t\tself.question_indexes = []\n",
    "\t\tself.md_file = None\n",
    "\n",
    "\tdef unzip_file_get_markdwon(self,zip_file):\n",
    "\t\tdest_folder = pathlib.Path(zip_file).parent\n",
    "\t\twith ZipFile(zip_file, \"r\") as zip:\n",
    "\t\t\tzip.extractall(dest_folder)\n",
    "\n",
    "\t\tself.md_file = glob.glob(str(dest_folder) + \"/*.md\")\n",
    "\t\t\n",
    "\n",
    "\n",
    "\tdef ankify_markdown_page(self, txt_file=\"anki_question.txt\"):\n",
    "\t\twith open(self.md_file, \"r\") as page:\n",
    "\t\t\tnotion_page = page.readlines()\n",
    "\t\t\tfor i,line in enumerate(notion_page):\n",
    "\t\t\t\tif \"Anki*\" in line:\n",
    "\t\t\t\t\tquestion = line[line.index(\"*\")+2:]\n",
    "\t\t\t\t\tq_start_index = i\n",
    "\t\t\t\ttry:\n",
    "\t\t\t\t\tif line.strip(\" \").split()[0] == \"#\" and \"q_start_index\" in locals():\n",
    "\t\t\t\t\t\tq_end_index = i\n",
    "\t\t\t\t\t\tself.question_indexes.append([q_start_index,q_end_index,question])\n",
    "\t\t\t\texcept:\n",
    "\t\t\t\t\tcontinue\n",
    "\t\t\n",
    "\t\twith open(txt_file, \"w+\") as anki_q:\n",
    "\t\t\tfor i,ix_q in enumerate(self.question_indexes):\n",
    "\t\t\t\tanki_q.write(ix_q[2].strip(\"\\n\") + \";\")\n",
    "\t\t\t\tfor answer_line in notion_page[ix_q[0]+1:ix_q[1]]:\n",
    "\t\t\t\t\tanki_q.write(answer_line.strip(\"\\n\"))\n",
    "\t\t\t\tanki_q.write(\"\\n\")\n",
    "        \n",
    "if __name__==\"__main__\":\n",
    "\t#zip_file = input(\"Input the zip file\")\n",
    "\tzip_file = input(\"What is the zip file?\")\n",
    "\tanki = Ankify()\n",
    "\tanki.unzip_file_get_markdwon(zip_file)\n",
    "\tprint(\"Your markdown file was created:\")\n",
    "\tprint(anki.md_file)\n",
    "\taction = input(\"Which items would you like to ankify? (index1,index2,... in list or all)\")\n",
    "\tmd_files = anki.md_file\n",
    "\tif action==\"all\":\n",
    "\t\tfor md_file in md_files:\n",
    "\t\t\tanki.md_file = str(pathlib.Path(md_file).name)\n",
    "\t\t\tanki.ankify_markdown_page(txt_file=\"anki_{}.txt\".format(md_file.strip(\".md\")))\n",
    "\telse:\n",
    "\t\tindexes = action.split(\",\")\n",
    "\t\tfor ix in indexes:\n",
    "\t\t\tanki.md_file = str(pathlib.Path(md_files[int(ix)]).name)\n",
    "\t\t\tanki.ankify_markdown_page(txt_file=\"anki_{}.txt\".format(anki.md_file.strip(\".md\")))"
   ]
  },
  {
   "cell_type": "markdown",
   "metadata": {},
   "source": [
    "There we have it! A neat txt file ready to be imported as an anki flash card. Let's do that to make sure everything we have everything we need."
   ]
  },
  {
   "cell_type": "markdown",
   "metadata": {},
   "source": [
    "<span style=\"color: red\"> Add images for the .txt files as well as a nice image for the flash cards finished </span> "
   ]
  },
  {
   "cell_type": "markdown",
   "metadata": {},
   "source": [
    "### Conclusion\n"
   ]
  },
  {
   "cell_type": "markdown",
   "metadata": {},
   "source": [
    "Hope you enjoyed this post. Connect with me on Linkedin and Twitter.\n",
    "\n",
    "- <span style=\"color: red\"> Add a nice conclusion on the stuff about forgetting curve maybe and some other stuff about automation productivity and future plans for posts on the same topics </span>\n",
    "\n",
    "\n",
    "- <span style=\"color: red\"> ALso add a popint about how fast a process has to be to not interreupt your work flow </span>    \n",
    "\n",
    "\n",
    "    \n",
    "    \n",
    "    "
   ]
  },
  {
   "cell_type": "markdown",
   "metadata": {},
   "source": [
    "---"
   ]
  },
  {
   "cell_type": "markdown",
   "metadata": {},
   "source": [
    "Thanks and see you next time"
   ]
  },
  {
   "cell_type": "markdown",
   "metadata": {},
   "source": [
    "Article you might like:\n",
    "   - https://medium.com/python-in-plain-english/python-for-daily-life-productivity-70ce1943c35b\n",
    "   - https://medium.com/python-in-plain-english/python-for-daily-life-productivity-part-ii-6be1562e59b0\n",
    "   \n"
   ]
  }
 ],
 "metadata": {
  "hide_input": false,
  "kernelspec": {
   "display_name": "Python 3",
   "language": "python",
   "name": "python3"
  },
  "language_info": {
   "codemirror_mode": {
    "name": "ipython",
    "version": 3
   },
   "file_extension": ".py",
   "mimetype": "text/x-python",
   "name": "python",
   "nbconvert_exporter": "python",
   "pygments_lexer": "ipython3",
   "version": "3.6.10"
  },
  "toc": {
   "base_numbering": 1,
   "nav_menu": {},
   "number_sections": true,
   "sideBar": true,
   "skip_h1_title": false,
   "title_cell": "Table of Contents",
   "title_sidebar": "Contents",
   "toc_cell": false,
   "toc_position": {},
   "toc_section_display": true,
   "toc_window_display": false
  },
  "varInspector": {
   "cols": {
    "lenName": 16,
    "lenType": 16,
    "lenVar": 40
   },
   "kernels_config": {
    "python": {
     "delete_cmd_postfix": "",
     "delete_cmd_prefix": "del ",
     "library": "var_list.py",
     "varRefreshCmd": "print(var_dic_list())"
    },
    "r": {
     "delete_cmd_postfix": ") ",
     "delete_cmd_prefix": "rm(",
     "library": "var_list.r",
     "varRefreshCmd": "cat(var_dic_list()) "
    }
   },
   "types_to_exclude": [
    "module",
    "function",
    "builtin_function_or_method",
    "instance",
    "_Feature"
   ],
   "window_display": false
  }
 },
 "nbformat": 4,
 "nbformat_minor": 4
}
